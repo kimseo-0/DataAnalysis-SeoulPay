{
 "cells": [
  {
   "cell_type": "markdown",
   "id": "2adf57f7",
   "metadata": {},
   "source": [
    "# 자연어 처리 (토크나이징)"
   ]
  },
  {
   "cell_type": "code",
   "execution_count": null,
   "id": "f036d4b0",
   "metadata": {},
   "outputs": [],
   "source": [
    "import pandas as pd\n",
    "from utils.nlp_utils import get_token_list\n",
    "from utils.io_util import save_text_to_file\n",
    "from utils.list_util import flatten_2d_list"
   ]
  },
  {
   "cell_type": "markdown",
   "id": "cd7f3565",
   "metadata": {},
   "source": [
    "## 구글플레이스토어 땡겨요 리뷰 토크나이징"
   ]
  },
  {
   "cell_type": "code",
   "execution_count": null,
   "id": "6e3ea23e",
   "metadata": {},
   "outputs": [],
   "source": [
    "data = pd.read_csv(\"data/raw/구글플레이스토어_땡겨요_리뷰.csv\", index_col=0)\n",
    "result = get_token_list(data[\"content\"], nlp_type='okt', pos_tags = ['Noun'], flatten=False)\n",
    "\n",
    "# csv파일로 저장하기\n",
    "data['tokens'] = result\n",
    "data.to_csv(\"data/processed/구글플레이스토어_땡겨요_리뷰_토크나이징.csv\")\n",
    "save_text_to_file(flatten_2d_list(result), \"data/words/구글플레이스토어_땡겨요_리뷰_토크나이징.txt\")"
   ]
  }
 ],
 "metadata": {
  "kernelspec": {
   "display_name": "DataAnalysis-SeoulPay (3.13.5)",
   "language": "python",
   "name": "python3"
  },
  "language_info": {
   "codemirror_mode": {
    "name": "ipython",
    "version": 3
   },
   "file_extension": ".py",
   "mimetype": "text/x-python",
   "name": "python",
   "nbconvert_exporter": "python",
   "pygments_lexer": "ipython3",
   "version": "3.13.5"
  }
 },
 "nbformat": 4,
 "nbformat_minor": 5
}
