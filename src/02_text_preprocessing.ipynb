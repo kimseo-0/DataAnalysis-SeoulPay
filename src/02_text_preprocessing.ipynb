{
 "cells": [
  {
   "cell_type": "markdown",
   "id": "2adf57f7",
   "metadata": {},
   "source": [
    "# 자연어 처리 (토크나이징)"
   ]
  },
  {
   "cell_type": "markdown",
   "id": "59be06e5",
   "metadata": {},
   "source": [
    "## 자연어 처리 함수 레벨1"
   ]
  },
  {
   "cell_type": "code",
   "execution_count": 36,
   "id": "23618453",
   "metadata": {},
   "outputs": [],
   "source": [
    "import re\n",
    "from konlpy.tag import Okt\n",
    "from kiwipiepy import Kiwi\n",
    "import pandas as pd"
   ]
  },
  {
   "cell_type": "code",
   "execution_count": 37,
   "id": "1746ae78",
   "metadata": {},
   "outputs": [],
   "source": [
    "okt = Okt()\n",
    "\n",
    "def get_word_list_with_okt(series, stopwords = [], pos_tags = []):\n",
    "    word_list = []\n",
    "    \n",
    "    for i, text in enumerate(series.tolist()):\n",
    "        # STEP1: 데이터 전처리\n",
    "        new_text = re.sub(\"[^a-zA-Z가-힣\\\\s]\", \"\", text)\n",
    "\n",
    "        # STEP2: 형태소 분석\n",
    "        result = okt.pos(new_text)\n",
    "\n",
    "        # STEP3: 조건에 맞는 단어 담기\n",
    "        for word, pos in result:\n",
    "            if len(word) > 1 and word not in stopwords:\n",
    "                if pos_tags == []:                \n",
    "                    word_list.append(word)\n",
    "                elif pos in pos_tags:\n",
    "                    word_list.append(word)\n",
    "        \n",
    "    return word_list"
   ]
  },
  {
   "cell_type": "markdown",
   "id": "5cad6437",
   "metadata": {},
   "source": [
    "## 자연어 처리 함수 레벨2"
   ]
  },
  {
   "cell_type": "code",
   "execution_count": 38,
   "id": "a472691f",
   "metadata": {},
   "outputs": [],
   "source": [
    "okt = Okt()\n",
    "\n",
    "def get_word_list(series, nlp_type = \"okt\", stopwords = [], pos_tags = []):\n",
    "    word_list = []\n",
    "    \n",
    "    nlp = Okt()\n",
    "    if nlp_type == 'kiwi':\n",
    "        nlp = Kiwi()\n",
    "\n",
    "    for i, text in enumerate(series.tolist()):\n",
    "        # STEP1: 데이터 전처리\n",
    "        new_text = re.sub(\"[^a-zA-Z가-힣\\\\s]\", \"\", text)\n",
    "\n",
    "        # STEP2: 형태소 분석\n",
    "        result = nlp.pos(new_text)\n",
    "\n",
    "        # STEP3: 조건에 맞는 단어 담기\n",
    "        for word, pos in result:\n",
    "            if len(word) > 1 and word not in stopwords:\n",
    "                if pos_tags == []:                \n",
    "                    word_list.append(word)\n",
    "                elif pos in pos_tags:\n",
    "                    word_list.append(word)\n",
    "        \n",
    "    return word_list"
   ]
  },
  {
   "cell_type": "markdown",
   "id": "4297362c",
   "metadata": {},
   "source": [
    "## 자연어 처리 함수 레벨3"
   ]
  },
  {
   "cell_type": "code",
   "execution_count": null,
   "id": "4efcf01c",
   "metadata": {},
   "outputs": [],
   "source": [
    "def get_token_list(\n",
    "    series,\n",
    "    nlp_type = \"okt\",\n",
    "    stopwords = [],\n",
    "    pos_tags = None,\n",
    "    min_len = 2,\n",
    "    flatten = True\n",
    "):\n",
    "    \"\"\"\n",
    "    텍스트 시리즈에서 전처리 → 형태소 분석 → (불용어, 품사, 길이) 필터 → 토큰 리스트 반환.\n",
    "\n",
    "    Args:\n",
    "        series: 문자열 iterable (예: df['text'])\n",
    "        nlp_type: \"okt\" 또는 \"kiwi\"\n",
    "        stopwords: 제외할 단어들\n",
    "        pos_tags: 포함할 품사 태그 목록 (None/빈 리스트면 전 품사 허용)\n",
    "            - OKT 예: [\"Noun\",\"Adjective\"]\n",
    "            - Kiwi 예: [\"NNG\",\"NNP\",\"VA\"]\n",
    "            - 한국어 품사 태그 비교표: https://docs.google.com/spreadsheets/d/1OGAjUvalBuX-oZvZ_-9tEfYD2gQe7hTGsgUpiiBSXI8/edit?gid=0#gid=0\n",
    "        min_len: 최소 글자 수 필터\n",
    "        flatten: True면 모든 리뷰 토큰을 하나의 리스트로 병합, False면 리뷰별 리스트 유지\n",
    "\n",
    "    Returns:\n",
    "        - flatten=True  -> List[str]\n",
    "        - flatten=False -> List[List[str]]\n",
    "    \"\"\"\n",
    "    word_list = []\n",
    "    \n",
    "    nlp = Okt()\n",
    "    if nlp_type == 'kiwi':\n",
    "        nlp = Kiwi()\n",
    "    \n",
    "    for i, text in enumerate(series.tolist()):\n",
    "        # STEP1: 데이터 전처리\n",
    "        new_text = re.sub(\"[^a-zA-Z가-힣\\\\s]\", \"\", text)\n",
    "\n",
    "        # STEP2: 형태소 분석\n",
    "        result = nlp.pos(new_text)\n",
    "    \n",
    "        temp_list = []\n",
    "        # STEP3: 조건에 맞는 단어 담기\n",
    "        for word, pos in result:\n",
    "            # word의 길이가 min_len 보다 짧거나 불용어 포함시 넘어감\n",
    "            if len(word) < min_len or word in stopwords:\n",
    "                continue\n",
    "\n",
    "            if pos_tags == None:                \n",
    "                temp_list.append(word)\n",
    "            elif pos in pos_tags:\n",
    "                temp_list.append(word)\n",
    "        \n",
    "        if flatten:\n",
    "            word_list.extend(temp_list)\n",
    "        else:\n",
    "            word_list.append(temp_list)\n",
    "        \n",
    "    return word_list"
   ]
  },
  {
   "cell_type": "markdown",
   "id": "cd7f3565",
   "metadata": {},
   "source": [
    "## 코드"
   ]
  },
  {
   "cell_type": "code",
   "execution_count": 40,
   "id": "6e3ea23e",
   "metadata": {},
   "outputs": [],
   "source": [
    "data = pd.read_csv(\"data/raw/구글플레이스토어_땡겨요_리뷰.csv\", index_col=0)\n",
    "result = get_token_list(data[\"content\"], nlp_type='okt', pos_tags = ['Noun'], flatten=False)\n",
    "\n",
    "# csv파일로 저장하기\n",
    "data['tokens'] = result\n",
    "data.to_csv(\"data/processed/구글플레이스토어_땡겨요_리뷰_토크나이징.csv\")"
   ]
  },
  {
   "cell_type": "code",
   "execution_count": 44,
   "id": "16b58227",
   "metadata": {},
   "outputs": [],
   "source": [
    "# main.py\n",
    "from utils.io_util import save_text_to_file\n",
    "from utils.list_util import flatten_2d_list\n",
    "\n",
    "# 저장\n",
    "save_text_to_file(flatten_2d_list(result), \"data/words/구글플레이스토어_땡겨요_리뷰_토크나이징.txt\")"
   ]
  }
 ],
 "metadata": {
  "kernelspec": {
   "display_name": "DataAnalysis-SeoulPay (3.13.5)",
   "language": "python",
   "name": "python3"
  },
  "language_info": {
   "codemirror_mode": {
    "name": "ipython",
    "version": 3
   },
   "file_extension": ".py",
   "mimetype": "text/x-python",
   "name": "python",
   "nbconvert_exporter": "python",
   "pygments_lexer": "ipython3",
   "version": "3.13.5"
  }
 },
 "nbformat": 4,
 "nbformat_minor": 5
}
