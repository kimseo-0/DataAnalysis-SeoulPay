{
 "cells": [
  {
   "cell_type": "markdown",
   "id": "61f8dbe0",
   "metadata": {},
   "source": [
    "# 구글 플레이 스토어 앱 리뷰 크롤링 (Selenium)"
   ]
  },
  {
   "cell_type": "code",
   "execution_count": null,
   "id": "39193d51",
   "metadata": {},
   "outputs": [],
   "source": [
    "from utils.crawling import collect_review_in_googlePlayStore"
   ]
  },
  {
   "cell_type": "code",
   "execution_count": null,
   "id": "6e3ea23e",
   "metadata": {},
   "outputs": [],
   "source": [
    "collect_review_in_googlePlayStore(\n",
    "    \"https://play.google.com/store/apps/details?id=com.shinhan.o2o&hl=ko\",\n",
    "    \"data/raw/구글플레이스토어_땡겨요_리뷰.csv\", 5)"
   ]
  },
  {
   "cell_type": "code",
   "execution_count": null,
   "id": "ab390f8d",
   "metadata": {},
   "outputs": [],
   "source": []
  },
  {
   "cell_type": "code",
   "execution_count": null,
   "id": "96782970",
   "metadata": {},
   "outputs": [],
   "source": []
  }
 ],
 "metadata": {
  "kernelspec": {
   "display_name": "DataAnalysis-SeoulPay (3.13.5)",
   "language": "python",
   "name": "python3"
  },
  "language_info": {
   "codemirror_mode": {
    "name": "ipython",
    "version": 3
   },
   "file_extension": ".py",
   "mimetype": "text/x-python",
   "name": "python",
   "nbconvert_exporter": "python",
   "pygments_lexer": "ipython3",
   "version": "3.13.5"
  }
 },
 "nbformat": 4,
 "nbformat_minor": 5
}
